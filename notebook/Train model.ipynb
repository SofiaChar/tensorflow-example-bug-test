{
 "cells": [
  {
   "cell_type": "code",
   "execution_count": null,
   "id": "337a6bdc",
   "metadata": {},
   "outputs": [],
   "source": [
    "!pip install -U pip\n",
    "!pip install tensorflow==2.6.0 valohai-utils\n",
    "!pip install -U keras==2.6"
   ]
  },
  {
   "cell_type": "code",
   "execution_count": null,
   "id": "6d0d1340",
   "metadata": {},
   "outputs": [],
   "source": [
    "import uuid\n",
    "\n",
    "import numpy as np\n",
    "import tensorflow as tf\n",
    "import valohai"
   ]
  },
  {
   "cell_type": "code",
   "execution_count": null,
   "id": "c23b9ebb",
   "metadata": {},
   "outputs": [],
   "source": [
    "def log_metadata(epoch, logs):\n",
    "    \"\"\"Helper function to log training metrics\"\"\"\n",
    "    with valohai.logger() as logger:\n",
    "        logger.log('epoch', epoch)\n",
    "        logger.log('accuracy', logs['accuracy'])\n",
    "        logger.log('loss', logs['loss'])"
   ]
  },
  {
   "cell_type": "code",
   "execution_count": null,
   "id": "4bcad46e",
   "metadata": {},
   "outputs": [],
   "source": [
    "# valohai.prepare enables us to update the valohai.yaml configuration file with\n",
    "# the Valohai command-line client by running `valohai yaml step train_model.py`\n",
    "\n",
    "valohai.prepare(\n",
    "    step='train-model',\n",
    "    default_inputs={\n",
    "        'dataset': 'https://valohaidemo.blob.core.windows.net/mnist/preprocessed_mnist.npz',\n",
    "    },\n",
    "    default_parameters={\n",
    "        'learning_rate': 0.001,\n",
    "        'epochs': 5,\n",
    "    },\n",
    ")"
   ]
  },
  {
   "cell_type": "code",
   "execution_count": null,
   "id": "57d50f44",
   "metadata": {},
   "outputs": [],
   "source": [
    "# Read input files from Valohai inputs directory\n",
    "# This enables Valohai to version your training data\n",
    "# and cache the data for quick experimentation\n",
    "\n",
    "input_path = valohai.inputs('dataset').path()\n",
    "with np.load(input_path, allow_pickle=True) as f:\n",
    "    x_train, y_train = f['x_train'], f['y_train']\n",
    "    x_test, y_test = f['x_test'], f['y_test']\n",
    "\n",
    "model = tf.keras.models.Sequential([\n",
    "    tf.keras.layers.Flatten(input_shape=(28, 28)),\n",
    "    tf.keras.layers.Dense(128, activation='relu'),\n",
    "    tf.keras.layers.Dropout(0.2),\n",
    "    tf.keras.layers.Dense(10),\n",
    "])\n",
    "\n",
    "optimizer = tf.keras.optimizers.Adam(learning_rate=valohai.parameters('learning_rate').value)\n",
    "loss_fn = tf.keras.losses.SparseCategoricalCrossentropy(from_logits=True)\n",
    "model.compile(optimizer=optimizer,\n",
    "              loss=loss_fn,\n",
    "              metrics=['accuracy'])\n",
    "\n",
    "# Print metrics out as JSON\n",
    "# This enables Valohai to version your metadata\n",
    "# and for you to use it to compare experiments\n",
    "\n",
    "callback = tf.keras.callbacks.LambdaCallback(on_epoch_end=log_metadata)\n",
    "model.fit(x_train, y_train, epochs=valohai.parameters('epochs').value, callbacks=[callback])\n",
    "\n",
    "# Evaluate the model and print out the test metrics as JSON\n",
    "\n",
    "test_loss, test_accuracy = model.evaluate(x_test,  y_test, verbose=2)\n",
    "with valohai.logger() as logger:\n",
    "    logger.log('test_accuracy', test_accuracy)\n",
    "    logger.log('test_loss', test_loss)\n",
    "\n",
    "# Write output files to Valohai outputs directory\n",
    "# This enables Valohai to version your data\n",
    "# and upload output it to the default data store\n",
    "\n",
    "suffix = uuid.uuid4()\n",
    "output_path = valohai.outputs().path(f'model-{suffix}.h5')\n",
    "model.save(output_path)"
   ]
  }
 ],
 "metadata": {
  "celltoolbar": "Tags",
  "kernelspec": {
   "display_name": "Python 3 (ipykernel)",
   "language": "python",
   "name": "python3"
  },
  "language_info": {
   "codemirror_mode": {
    "name": "ipython",
    "version": 3
   },
   "file_extension": ".py",
   "mimetype": "text/x-python",
   "name": "python",
   "nbconvert_exporter": "python",
   "pygments_lexer": "ipython3",
   "version": "3.9.2"
  }
 },
 "nbformat": 4,
 "nbformat_minor": 5
}
